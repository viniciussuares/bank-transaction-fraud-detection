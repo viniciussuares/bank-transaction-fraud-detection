{
 "cells": [
  {
   "cell_type": "markdown",
   "metadata": {},
   "source": [
    "# About this Notebook\n",
    "\n",
    "This notebook addresses the critical challenge of **bank transaction fraud detection and prevention**. Financial fraud represents a significant risk in the financial sector, leading to substantial losses and impacting customer trust. Developing robust methods to identify and prevent fraudulent transactions is therefore a key priority.\n",
    "\n",
    "This project leverages a publicly available dataset from Kaggle (https://www.kaggle.com/datasets/marusagar/bank-transaction-fraud-detection), containing valuable information on bank transactions. The primary objective is to develop a machine learning model capable of outperforming a baseline rule-based fraud detection strategy. **The goal is to achieve a more efficient and accurate system that delivers improved business outcomes through minimized fraud losses and enhanced security.**\n",
    "\n",
    "The methodology employed in this project includes:\n",
    "\n",
    "1. Data Acquisition: The dataset will be obtained via the Kaggle API and KaggleHub.\n",
    "2. Data Splitting: The data will be partitioned into training, validation, and test sets for rigorous model evaluation.\n",
    "3. Exploratory Data Analysis (EDA): EDA will be conducted on the training data to gain insights and inform feature engineering.\n",
    "4. Baseline Model (Rule-Based Strategy): A rule-based strategy will be defined and implemented as a performance benchmark.\n",
    "5. Preprocessing and Pipeline Creation: Preprocessing steps will be applied to the training data, and a pipeline will be constructed for efficient data transformation and modeling.\n",
    "6. Model Selection: Several suitable machine learning models will be explored and selected.\n",
    "7. Training and Hyperparameter Optimization: Selected models will be trained and their hyperparameters optimized using the validation set.\n",
    "8. Evaluation: The final models will be evaluated on the test set using relevant technical and financial metrics.\n",
    "9. Conclusion: The project will conclude with a summary of findings and an assessment of the approach's effectiveness."
   ]
  },
  {
   "cell_type": "markdown",
   "metadata": {},
   "source": [
    "Importing libraries that will be used:"
   ]
  },
  {
   "cell_type": "code",
   "execution_count": null,
   "metadata": {},
   "outputs": [
    {
     "name": "stderr",
     "output_type": "stream",
     "text": [
      "c:\\Users\\vsuar\\BankTransactionFraudDetection\\venv\\lib\\site-packages\\tqdm\\auto.py:21: TqdmWarning: IProgress not found. Please update jupyter and ipywidgets. See https://ipywidgets.readthedocs.io/en/stable/user_install.html\n",
      "  from .autonotebook import tqdm as notebook_tqdm\n"
     ]
    }
   ],
   "source": [
    "# Importing libraries\n",
    "import os\n",
    "import kagglehub\n",
    "import pandas as pd"
   ]
  },
  {
   "cell_type": "markdown",
   "metadata": {},
   "source": [
    "## 1. Data Acquisition "
   ]
  },
  {
   "cell_type": "code",
   "execution_count": null,
   "metadata": {},
   "outputs": [
    {
     "name": "stdout",
     "output_type": "stream",
     "text": [
      "<class 'pandas.core.frame.DataFrame'>\n",
      "RangeIndex: 200000 entries, 0 to 199999\n",
      "Data columns (total 24 columns):\n",
      " #   Column                   Non-Null Count   Dtype  \n",
      "---  ------                   --------------   -----  \n",
      " 0   Customer_ID              200000 non-null  object \n",
      " 1   Customer_Name            200000 non-null  object \n",
      " 2   Gender                   200000 non-null  object \n",
      " 3   Age                      200000 non-null  int64  \n",
      " 4   State                    200000 non-null  object \n",
      " 5   City                     200000 non-null  object \n",
      " 6   Bank_Branch              200000 non-null  object \n",
      " 7   Account_Type             200000 non-null  object \n",
      " 8   Transaction_ID           200000 non-null  object \n",
      " 9   Transaction_Date         200000 non-null  object \n",
      " 10  Transaction_Time         200000 non-null  object \n",
      " 11  Transaction_Amount       200000 non-null  float64\n",
      " 12  Merchant_ID              200000 non-null  object \n",
      " 13  Transaction_Type         200000 non-null  object \n",
      " 14  Merchant_Category        200000 non-null  object \n",
      " 15  Account_Balance          200000 non-null  float64\n",
      " 16  Transaction_Device       200000 non-null  object \n",
      " 17  Transaction_Location     200000 non-null  object \n",
      " 18  Device_Type              200000 non-null  object \n",
      " 19  Is_Fraud                 200000 non-null  int64  \n",
      " 20  Transaction_Currency     200000 non-null  object \n",
      " 21  Customer_Contact         200000 non-null  object \n",
      " 22  Transaction_Description  200000 non-null  object \n",
      " 23  Customer_Email           200000 non-null  object \n",
      "dtypes: float64(2), int64(2), object(20)\n",
      "memory usage: 36.6+ MB\n"
     ]
    }
   ],
   "source": [
    "# Downloading the dataset\n",
    "base_path = kagglehub.dataset_download(\"marusagar/bank-transaction-fraud-detection\") \n",
    "final_path = os.path.join(base_path, \"Bank_Transaction_Fraud_Detection.csv\")\n",
    "df = pd.read_csv(final_path)\n",
    "df.info()"
   ]
  }
 ],
 "metadata": {
  "kernelspec": {
   "display_name": "venv",
   "language": "python",
   "name": "python3"
  },
  "language_info": {
   "codemirror_mode": {
    "name": "ipython",
    "version": 3
   },
   "file_extension": ".py",
   "mimetype": "text/x-python",
   "name": "python",
   "nbconvert_exporter": "python",
   "pygments_lexer": "ipython3",
   "version": "3.9.19"
  }
 },
 "nbformat": 4,
 "nbformat_minor": 2
}
